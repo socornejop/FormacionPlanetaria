{
 "cells": [
  {
   "cell_type": "code",
   "execution_count": 1,
   "metadata": {},
   "outputs": [],
   "source": [
    "import numpy as np\n",
    "import matplotlib as mpl\n",
    "import matplotlib.pyplot as plt\n",
    "from matplotlib import rcParams\n",
    "import rebound\n",
    "import time\n",
    "\n",
    "c1 = '#009999'\n",
    "c2 = '#990099'\n",
    "c3 = '#999900'\n",
    "\n",
    "%matplotlib inline"
   ]
  },
  {
   "cell_type": "markdown",
   "metadata": {},
   "source": [
    "# Obtención de los datos"
   ]
  },
  {
   "cell_type": "code",
   "execution_count": 2,
   "metadata": {},
   "outputs": [],
   "source": [
    "\"\"\" Estrella cuyo sistema planetario analizarán \"\"\"\n",
    "\n",
    "Estrella = b'HR 8799'\n",
    "\n",
    "# Constantes útiles\n",
    "\n",
    "mJupiter = 9.55*10**-4\n",
    "rads = np.pi/180."
   ]
  },
  {
   "cell_type": "code",
   "execution_count": 3,
   "metadata": {},
   "outputs": [],
   "source": [
    "\"\"\"Esta función lee los datos requeridos\n",
    "El valor N se toma según el dato requerido. En la siguiente celda\n",
    "están los datos que pueden recuperarse.\n",
    "\"\"\"\n",
    "\n",
    "def lectura(N):\n",
    "    datos = np.genfromtxt('TablaExoplanetas.dat', names=True, dtype=None, skip_header=1, delimiter = '\\t')  # Lee la tabla\n",
    "    lista = []                    # Array vacío para llenarlo con los datos\n",
    "    for i in range(0,len(datos)):\n",
    "        renglon = datos[i]        # Revisa cada renglon\n",
    "        lista.append(renglon[N])  # Añade a lista la variable N del renglón i \n",
    "    return lista"
   ]
  },
  {
   "cell_type": "markdown",
   "metadata": {},
   "source": [
    "0.\tname\n",
    "1.\tplanet_status\n",
    "2.\tmass\t\n",
    "3.\tmass_error_min\t\n",
    "4.\tmass_error_max\t\n",
    "5.\tmass_sini\t\n",
    "6.\tmass_sini_error_min\t\n",
    "7.\tmass_sini_error_max\t\n",
    "8.\tradius\t\n",
    "9.\tradius_error_min\t\n",
    "10.\tradius_error_max\t\n",
    "11.\torbital_period\t\n",
    "12.\torbital_period_error_min\t\n",
    "13.\torbital_period_error_max\t\n",
    "14.\tsemi_major_axis\t\n",
    "15.\tsemi_major_axis_error_min\t\n",
    "16.\tsemi_major_axis_error_max\t\n",
    "17.\teccentricity\n",
    "18.\teccentricity_error_min\n",
    "19.\teccentricity_error_max\t\n",
    "20.\tinclination\n",
    "21.\tinclination_error_min\n",
    "22.\tinclination_error_max\n",
    "23.\tangular_distance\n",
    "24.\tdiscovered\n",
    "25.\tupdated\t\n",
    "26.\tomega\t\n",
    "27.\tomega_error_min\t\n",
    "28.\tomega_error_max\t\n",
    "29.\ttperi\n",
    "30.\ttperi_error_min\n",
    "31.\ttperi_error_max\n",
    "32.\ttconj\n",
    "33.\ttconj_error_min\n",
    "34.\ttconj_error_max\n",
    "35.\ttzero_tr\n",
    "36.\ttzero_tr_error_min\n",
    "37.\ttzero_tr_error_max\n",
    "38.\ttzero_tr_sec\n",
    "39.\ttzero_tr_sec_error_min\n",
    "40.\ttzero_tr_sec_error_max\n",
    "41.\tlambda_angle\n",
    "42.\tlambda_angle_error_min\n",
    "43.\tlambda_angle_error_max\n",
    "44.\timpact_parameter\n",
    "45.\timpact_parameter_error_min\n",
    "46.\timpact_parameter_error_max\n",
    "47.\ttzero_vr\n",
    "48.\ttzero_vr_error_min\n",
    "49.\ttzero_vr_error_max\n",
    "50.\tk\n",
    "51.\tk_error_min\n",
    "52.\tk_error_max\t\n",
    "53.\ttemp_calculated\t\n",
    "54.\ttemp_calculated_error_min\t\n",
    "55.\ttemp_calculated_error_max\t\n",
    "56.\ttemp_measured\t\n",
    "57.\thot_point_lon\t\n",
    "58.\tgeometric_albedo\n",
    "59.\tgeometric_albedo_error_min\n",
    "60.\tgeometric_albedo_error_max\n",
    "61.\tlog_g\n",
    "62.\tpublication\n",
    "63.\tdetection_type\n",
    "64.\tmass_detection_type\n",
    "65.\tradius_detection_type\n",
    "66.\talternate_names\t\n",
    "67. molecules\n",
    "68.\tstar_name\n",
    "69.\tra\n",
    "70.\tdec\n",
    "71.\tmag_v\n",
    "72.\tmag_i\n",
    "73.\tmag_j\n",
    "74.\tmag_h\n",
    "75.\tmag_k\n",
    "76.\tstar_distance\n",
    "77.\tstar_distance_error_min\n",
    "78.\tstar_distance_error_max\n",
    "79.\tstar_metallicity\n",
    "80.\tstar_metallicity_error_min\n",
    "81.\tstar_metallicity_error_max\n",
    "82.\tstar_mass\n",
    "83.\tstar_mass_error_min\n",
    "84.\tstar_mass_error_max\n",
    "85.\tstar_radius\t\n",
    "86.\tstar_radius_error_min\n",
    "87.\tstar_radius_error_max\n",
    "88.\tstar_sp_type\n",
    "89.\tstar_age\n",
    "90.\tstar_age_error_min\t\n",
    "91.\tstar_age_error_max\n",
    "92.\tstar_teff\n",
    "93.\tstar_teff_error_min\n",
    "94.\tstar_teff_error_max\n",
    "95.\tstar_detected_disc\n",
    "96.\tstar_magnetic_field\n",
    "97.\tstar_alternate_names"
   ]
  },
  {
   "cell_type": "code",
   "execution_count": 4,
   "metadata": {},
   "outputs": [
    {
     "name": "stderr",
     "output_type": "stream",
     "text": [
      "/opt/anaconda3/lib/python3.7/site-packages/ipykernel_launcher.py:7: VisibleDeprecationWarning: Reading unicode strings without specifying the encoding argument is deprecated. Set the encoding, use None for the system default.\n",
      "  import sys\n"
     ]
    }
   ],
   "source": [
    "\"\"\"Datos que podrían servirnos\"\"\"\n",
    "\n",
    "# Datos del planeta\n",
    "\n",
    "name                 = lectura(0)\n",
    "planet_mass          = lectura(2)\n",
    "semi_major_axis      = lectura(14)\n",
    "eccentricity         = lectura(17)\n",
    "inclination          = lectura(20) \n",
    "omega                = lectura(26)\n",
    "\n",
    "# Datos de la estrella\n",
    "star_name            = lectura(68)\n",
    "star_mass            = lectura(82)"
   ]
  },
  {
   "cell_type": "code",
   "execution_count": 5,
   "metadata": {},
   "outputs": [],
   "source": [
    "NN = len(star_name)\n",
    "\n",
    "# Datos de los planetas\n",
    "nombre        = []\n",
    "masa          = []\n",
    "semieje       = []\n",
    "excentricidad = []\n",
    "inclinacion   = []\n",
    "omeguita      = []\n",
    "\n",
    "def funcionNan(X):\n",
    "    if np.isnan(X) == False:\n",
    "        return X\n",
    "    else:\n",
    "        return 0.\n",
    "\n",
    "for i in range(0,NN):\n",
    "    if star_name[i] == Estrella:\n",
    "        nombre.append(name[i])\n",
    "        masa.append( funcionNan(planet_mass[i]) * mJupiter)\n",
    "        semieje.append( funcionNan(semi_major_axis[i]) )\n",
    "        excentricidad.append( funcionNan(eccentricity[i]) )\n",
    "        inclinacion.append( funcionNan(inclination[i]) * rads)\n",
    "        omeguita.append( funcionNan(omega[i]) * rads)\n",
    "        masaEstrella = star_mass[i]"
   ]
  },
  {
   "cell_type": "code",
   "execution_count": 6,
   "metadata": {},
   "outputs": [
    {
     "name": "stdout",
     "output_type": "stream",
     "text": [
      "Sistema planetario de la estrella b'HR 8799' con masa de 1.56 masas solares\n",
      " \n",
      "Planeta b'HR 8799 b' con m =  7.00 M_Jup, a = 68.00 UA, e =  0.00, i = 0.4887 rad, omega = 0.0000 rad\n",
      "Planeta b'HR 8799 c' con m =  8.30 M_Jup, a = 42.90 UA, e =  0.00, i = 0.4887 rad, omega = 0.0000 rad\n",
      "Planeta b'HR 8799 d' con m =  8.30 M_Jup, a = 27.00 UA, e =  0.10, i = 0.4887 rad, omega = 1.3998 rad\n",
      "Planeta b'HR 8799 e' con m =  9.20 M_Jup, a = 16.40 UA, e =  0.15, i = 0.4363 rad, omega = 0.0000 rad\n"
     ]
    }
   ],
   "source": [
    "print('Sistema planetario de la estrella',Estrella,'con masa de',masaEstrella,'masas solares')\n",
    "print(' ')\n",
    "for i in range(0,len(nombre)):\n",
    "    print('Planeta {0:>10s} con m = {1:5.2f} M_Jup, a = {2:5.2f} UA, e = {3:5.2f}, i = {4:5.4f} rad, omega = {5:5.4f} rad'.format(nombre[i], masa[i]/mJupiter, semieje[i], excentricidad[i], inclinacion[i], omeguita[i])) \n",
    "    "
   ]
  },
  {
   "cell_type": "code",
   "execution_count": 7,
   "metadata": {},
   "outputs": [
    {
     "data": {
      "image/png": "[encoded data removed]",
      "text/plain": [
       "<Figure size 576x576 with 3 Axes>"
      ]
     },
     "metadata": {
      "needs_background": "light"
     },
     "output_type": "display_data"
    }
   ],
   "source": [
    "# Declarando la simulación\n",
    "sim = rebound.Simulation()\n",
    "sim.units = ('AU', 'yr', 'Msun')\n",
    "sim.integrator = \"whfast\"\n",
    "sim.dt = 0.001\n",
    "\n",
    "# Añadiendo a la estrella\n",
    "sim.add(m = masaEstrella)\n",
    "\n",
    "# Añadiendo a los planetas\n",
    "for i in range(0, len(nombre)):\n",
    "    sim.add(m = masa[i], a = semieje[i], e = excentricidad[i], inc = inclinacion[i], omega = omeguita[i])\n",
    "\n",
    "# Generando el plot\n",
    "fig = rebound.OrbitPlot(sim, unitlabel=\"[AU]\", color = True, slices=1)\n",
    "plt.savefig('orbit.pdf',bbox_inches='tight');"
   ]
  },
  {
   "cell_type": "markdown",
   "metadata": {},
   "source": [
    "# Análisis de Titius-Bode"
   ]
  },
  {
   "cell_type": "code",
   "execution_count": 8,
   "metadata": {},
   "outputs": [
    {
     "name": "stdout",
     "output_type": "stream",
     "text": [
      "Vieja distribución: [68.0, 42.9, 27.0, 16.4]\n",
      "Nueva distribución: [16.4 27.  42.9 68. ]\n",
      "Espaciamiento: [1, 2, 3, 4]\n"
     ]
    }
   ],
   "source": [
    "# Ordenando de menor a mayor los semiejes\n",
    "\n",
    "print('Vieja distribución:', semieje)\n",
    "Semieje = np.sort(semieje)\n",
    "print('Nueva distribución:', Semieje)\n",
    "\n",
    "# Creando el número provisional de espaciamiento\n",
    "\n",
    "Numero  = []\n",
    "\n",
    "for i in range(0,len(Semieje)):\n",
    "    Numero.append(i+1) # Añade su lugar respecto a su estrella\n",
    "\n",
    "print('Espaciamiento:', Numero)"
   ]
  },
  {
   "cell_type": "code",
   "execution_count": 9,
   "metadata": {},
   "outputs": [
    {
     "data": {
      "image/png": "[encoded data removed]",
      "text/plain": [
       "<Figure size 432x288 with 1 Axes>"
      ]
     },
     "metadata": {
      "needs_background": "light"
     },
     "output_type": "display_data"
    }
   ],
   "source": [
    "fig, ax = plt.subplots()\n",
    "ax.grid(True)\n",
    "\n",
    "ax.scatter(Numero,Semieje, color = c1, s = 50)\n",
    "\n",
    "ax.set_xlabel(r'$N$')\n",
    "ax.set_ylabel(r'$a$');"
   ]
  },
  {
   "cell_type": "code",
   "execution_count": 10,
   "metadata": {},
   "outputs": [],
   "source": [
    "\"\"\"Calculando el ajuste de la recta por mínimos cuadrados\"\"\"\n",
    "\n",
    "n = len(Semieje)\n",
    "i = 0\n",
    "X, Y, XY, X2 = 0., 0., 0., 0.\n",
    "\n",
    "for i in range(0,n):\n",
    "    \n",
    "    x = Numero[i]\n",
    "    y = np.log(Semieje[i])\n",
    "    \n",
    "    X = X + x      # Suma de las x\n",
    "    Y = Y + y      # Suma de las y\n",
    "    XY = XY + x*y  # Suma de x*y\n",
    "    X2 = X2 + x**2 # Suma de x^2\n",
    "\n",
    "m = (n*XY - X*Y)/(n*X2 - X**2)    # Valor de la pendiente\n",
    "b = ((X2*Y)-(XY*X))/(n*X2 - X**2) # Valor de la ordenada al origen"
   ]
  },
  {
   "cell_type": "code",
   "execution_count": 11,
   "metadata": {},
   "outputs": [],
   "source": [
    "B = np.exp(b)\n",
    "D = np.exp(m)\n",
    "\n",
    "Numero_ajuste = np.linspace(0,n+1,100)\n",
    "\n",
    "Semieje_ajuste = B * D**(Numero_ajuste)"
   ]
  },
  {
   "cell_type": "code",
   "execution_count": 12,
   "metadata": {},
   "outputs": [
    {
     "data": {
      "image/png": "[encoded data removed]",
      "text/plain": [
       "<Figure size 432x288 with 1 Axes>"
      ]
     },
     "metadata": {
      "needs_background": "light"
     },
     "output_type": "display_data"
    }
   ],
   "source": [
    "fig, ax = plt.subplots()\n",
    "ax.grid(True)\n",
    "\n",
    "ax.scatter(Numero,Semieje, color = c1, s = 50)\n",
    "ax.plot(Numero_ajuste,Semieje_ajuste, color = c2)\n",
    "\n",
    "ax.set_xlabel(r'$N$')\n",
    "ax.set_ylabel(r'$a$');"
   ]
  },
  {
   "cell_type": "code",
   "execution_count": 13,
   "metadata": {},
   "outputs": [
    {
     "name": "stdout",
     "output_type": "stream",
     "text": [
      "5.0 109.98048607399942\n"
     ]
    }
   ],
   "source": [
    "# Propuesta de planeta\n",
    "\n",
    "N_Nuevo = 5.\n",
    "a_Nuevo = B * D**(N_Nuevo)\n",
    "\n",
    "print(N_Nuevo, a_Nuevo)"
   ]
  },
  {
   "cell_type": "code",
   "execution_count": 14,
   "metadata": {},
   "outputs": [
    {
     "data": {
      "image/png": "[encoded data removed]",
      "text/plain": [
       "<Figure size 432x288 with 1 Axes>"
      ]
     },
     "metadata": {
      "needs_background": "light"
     },
     "output_type": "display_data"
    }
   ],
   "source": [
    "B = np.exp(b)\n",
    "D = np.exp(m)\n",
    "\n",
    "Numero_ajuste = np.linspace(0,n+2,100)\n",
    "Semieje_ajuste = B * D**(Numero_ajuste)\n",
    "\n",
    "fig, ax = plt.subplots()\n",
    "ax.grid(True)\n",
    "\n",
    "ax.scatter(Numero,Semieje, color = c1, s = 50)\n",
    "ax.plot(Numero_ajuste,Semieje_ajuste, color = c2)\n",
    "ax.scatter(N_Nuevo, a_Nuevo, color = c3, s = 50) # Propuesta\n",
    "\n",
    "ax.set_xlabel(r'$N$')\n",
    "ax.set_ylabel(r'$a$');"
   ]
  },
  {
   "cell_type": "markdown",
   "metadata": {},
   "source": [
    "# ¿El sistema es estable?\n",
    "\n",
    "La pregunta que muchos científicos (Laplace, Lagrange, Gauss, Poincaré, Kolmogorov, etc...) se han hecho es si los sistemas planetarios son o no estables. ¿Cómo se aborda esta pregunta? Ya que los sistemas planetarios múltiples son problemas con N-cuerpos no hay una solución general y analítica a esta pregunta. Este problema suele abordarse con teoría del caos que trata ciertos tipos de sistemas complejos y sistemas dinámicos no lineales muy sensibles a las variaciones en las condiciones iniciales.\n",
    "\n",
    "Existen diversas definiciones para lo que es o no es el caos (y no ex la meta de nuestro curso). Sin embargo, existen diversas técnicas para detectarlo y con ende varios indicadores, como son:\n",
    "\n",
    "- FLI: \"Fast Lyapunov Indicator\"\n",
    "- OFLI / OFLI2: “Orthogonal Fast Lyapunov Indicator”\n",
    "- SALI / GALI: “Smaller/Generalized Alignment Indices”\n",
    "- RLI: “Relative Lyapunov Indicators”\n",
    "- MEGNO: “Mean Exponential Growth of Nearby Orbits”\n",
    "\n",
    "En particular, MEGNO ($< Y >$) es un indicador de caos confiable que permite conocer si las soluciones a nuestra integración son dinámicamente estables. Teóricamente, si $< Y >$ tiende a 2 conforme el tiempo de integración tiende a infinito, entonces el sistema es caótico para el conjunto inicial de parámetros. Esto puede escribirse formalmente como\n",
    "\n",
    "\\begin{align}\n",
    "\\lim_{t \\to 2} < Y > = \\begin{cases}\n",
    "    2,& \\text{si el sistema es regular,}\\\\\n",
    "    \\infty, & \\text{si es caótico.}\n",
    "\\end{cases}\n",
    "\\end{align}\n",
    "\n",
    "Esto puede deberse a la eyección de algún planeta del sistema, o bien, a colisiones con otros planetas o con la estrella. Finalmente, aquellas soluciones que sean estables serán las que mejor representen al sistema que estamos analizando. \n",
    "\n",
    "La paquetería REBOUND incluye el indicador MEGNO $< Y >$. Para usarlo debe iniciarlizarse con el comando:\n",
    "\n",
    "sim.init_megno()\n",
    "\n",
    "y debe calcularse durante la integración con:\n",
    "\n",
    "sim.calculate_megno().\n",
    "\n",
    "Comparemos nuestro sistema planetario con y sin planeta propuesto y veamos su su evolución."
   ]
  },
  {
   "cell_type": "code",
   "execution_count": 15,
   "metadata": {},
   "outputs": [],
   "source": [
    "def simulacion_megno(M, A, E, I, O):\n",
    "    \n",
    "    \n",
    "    # Declarando la simulación\n",
    "    sim = rebound.Simulation()\n",
    "    sim.units = ('AU', 'yr', 'Msun')\n",
    "    sim.integrator = \"whfast\"\n",
    "    sim.dt = 0.001\n",
    "\n",
    "    # Añadiendo a la estrella\n",
    "    sim.add(m = masaEstrella)\n",
    "\n",
    "    # Añadiendo a los planetas\n",
    "    for i in range(0, len(nombre)):\n",
    "        sim.add(m = M[i], a = A[i], e = E[i], inc = I[i], omega = O[i])\n",
    "\n",
    "    # Inicializando MEGNO\n",
    "    sim.init_megno()\n",
    "\n",
    "    # Tiempo de la simulación\n",
    "\n",
    "    tSim = 10**5\n",
    "    N    = 5000  # Número de salidas\n",
    "    tiempos = np.linspace(0., tSim, N)\n",
    "    \n",
    "    # Arreglos para almacenar la información\n",
    "\n",
    "    t     = []\n",
    "    megno = []\n",
    "    \n",
    "    # Simulacion \n",
    "    \n",
    "    start = time.time()\n",
    "    \n",
    "    for i,tiempo in enumerate(tiempos):\n",
    "    \n",
    "        sim.integrate(tiempo)\n",
    "        t.append(tiempo)\n",
    "        megno.append(sim.calculate_megno())\n",
    "        \n",
    "    end = time.time()\n",
    "    segundos = end - start\n",
    "    \n",
    "    \n",
    "    return t, megno, segundos"
   ]
  },
  {
   "cell_type": "markdown",
   "metadata": {},
   "source": [
    "## Sistema planetario sin el planeta propuesto"
   ]
  },
  {
   "cell_type": "code",
   "execution_count": 16,
   "metadata": {},
   "outputs": [
    {
     "name": "stdout",
     "output_type": "stream",
     "text": [
      "[0.006685000000000001, 0.007926500000000001, 0.007926500000000001, 0.008786]\n",
      "[68.0, 42.9, 27.0, 16.4]\n",
      "[0.0, 0.0, 0.1, 0.15]\n",
      "[0.4886921905584123, 0.4886921905584123, 0.4886921905584123, 0.4363323129985824]\n",
      "[0.0, 0.0, 1.3997540600994522, 0.0]\n"
     ]
    }
   ],
   "source": [
    "# Datos sistema planetario sin planeta propuesto\n",
    "\n",
    "masa_Sin    = masa\n",
    "semieje_Sin = semieje      \n",
    "exc_Sin     = excentricidad\n",
    "inc_Sin     = inclinacion  \n",
    "omega_Sin   = omeguita\n",
    "\n",
    "print(masa_Sin)\n",
    "print(semieje_Sin)\n",
    "print(exc_Sin)\n",
    "print(inc_Sin)\n",
    "print(omega_Sin)"
   ]
  },
  {
   "cell_type": "code",
   "execution_count": 17,
   "metadata": {},
   "outputs": [],
   "source": [
    "# Integracion\n",
    "sim1 = simulacion_megno(M = masa_Sin, A = semieje_Sin, E = exc_Sin, I = inc_Sin, O = omega_Sin)"
   ]
  },
  {
   "cell_type": "code",
   "execution_count": 18,
   "metadata": {},
   "outputs": [
    {
     "name": "stdout",
     "output_type": "stream",
     "text": [
      "387.8325152397156\n"
     ]
    }
   ],
   "source": [
    "t_Sin        = sim1[0]\n",
    "megno_Sin    = sim1[1]\n",
    "segundos_Sin = sim1[2]\n",
    "\n",
    "print(segundos_Sin)"
   ]
  },
  {
   "cell_type": "markdown",
   "metadata": {},
   "source": [
    "## Sistema planetario sin el planeta propuesto"
   ]
  },
  {
   "cell_type": "code",
   "execution_count": 19,
   "metadata": {},
   "outputs": [
    {
     "name": "stdout",
     "output_type": "stream",
     "text": [
      "[0.006685000000000001, 0.007926500000000001, 0.007926500000000001, 0.008786, 0.007831000000000001]\n",
      "[68.0, 42.9, 27.0, 16.4, 109.98048607399942]\n",
      "[0.0, 0.0, 0.1, 0.15, 0.0625]\n",
      "[0.4886921905584123, 0.4886921905584123, 0.4886921905584123, 0.4363323129985824, 0.4756022211684548]\n",
      "[0.0, 0.0, 1.3997540600994522, 0.0, 0.34993851502486306]\n"
     ]
    }
   ],
   "source": [
    "# Datos sistema planetario con planeta propuesto\n",
    "\n",
    "masa_Con    = masa\n",
    "semieje_Con = semieje      \n",
    "exc_Con     = excentricidad\n",
    "inc_Con     = inclinacion  \n",
    "omega_Con   = omeguita\n",
    "\n",
    "masa_Con.append(np.mean(masa))\n",
    "semieje_Con.append(a_Nuevo)      \n",
    "exc_Con.append(np.mean(excentricidad))\n",
    "inc_Con.append(np.mean(inclinacion))\n",
    "omega_Con.append(np.mean(omeguita))   \n",
    "\n",
    "print(masa_Con)\n",
    "print(semieje_Con)\n",
    "print(exc_Con)\n",
    "print(inc_Con)\n",
    "print(omega_Con)"
   ]
  },
  {
   "cell_type": "code",
   "execution_count": 20,
   "metadata": {},
   "outputs": [],
   "source": [
    "# Integracion\n",
    "sim2 = simulacion_megno(M = masa_Con, A = semieje_Con, E = exc_Con, I = inc_Con, O = omega_Con)"
   ]
  },
  {
   "cell_type": "code",
   "execution_count": 21,
   "metadata": {},
   "outputs": [
    {
     "name": "stdout",
     "output_type": "stream",
     "text": [
      "327.88753294944763\n"
     ]
    }
   ],
   "source": [
    "t_Con        = sim2[0]\n",
    "megno_Con    = sim2[1]\n",
    "segundos_Con = sim2[2]\n",
    "\n",
    "print(segundos_Con)"
   ]
  },
  {
   "cell_type": "markdown",
   "metadata": {},
   "source": [
    "# Gráfica"
   ]
  },
  {
   "cell_type": "code",
   "execution_count": 22,
   "metadata": {},
   "outputs": [
    {
     "data": {
      "image/png": "[encoded data removed]",
      "text/plain": [
       "<Figure size 432x288 with 1 Axes>"
      ]
     },
     "metadata": {
      "needs_background": "light"
     },
     "output_type": "display_data"
    }
   ],
   "source": [
    "fig, ax = plt.subplots(figsize=(6,4))\n",
    "ax.plot(t_Sin,megno_Sin, color = c1, label = r'Sin planeta', linestyle= '-', linewidth=5)\n",
    "ax.plot(t_Con,megno_Con, color = c2, label = r'Con planeta', linestyle= ':', linewidth=5)\n",
    "ax.set_xlabel(r't [años]')\n",
    "ax.set_ylabel(r'$<Y>$')\n",
    "ax.legend(loc=\"upper left\", framealpha=0.0, fontsize = 'small');\n",
    "plt.savefig('megno.pdf',bbox_inches='tight');"
   ]
  },
  {
   "cell_type": "code",
   "execution_count": null,
   "metadata": {},
   "outputs": [],
   "source": []
  }
 ],
 "metadata": {
  "kernelspec": {
   "display_name": "Python 3",
   "language": "python",
   "name": "python3"
  },
  "language_info": {
   "codemirror_mode": {
    "name": "ipython",
    "version": 3
   },
   "file_extension": ".py",
   "mimetype": "text/x-python",
   "name": "python",
   "nbconvert_exporter": "python",
   "pygments_lexer": "ipython3",
   "version": "3.7.4"
  }
 },
 "nbformat": 4,
 "nbformat_minor": 2
}
